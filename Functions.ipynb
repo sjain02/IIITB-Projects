{
 "cells": [
  {
   "cell_type": "code",
   "execution_count": 14,
   "metadata": {},
   "outputs": [
    {
     "name": "stdout",
     "output_type": "stream",
     "text": [
      "Hello\n"
     ]
    }
   ],
   "source": [
    "def scream():\n",
    "    print('Hello')\n",
    "scream()\n"
   ]
  },
  {
   "cell_type": "code",
   "execution_count": 18,
   "metadata": {
    "collapsed": true
   },
   "outputs": [],
   "source": [
    "def square(num):\n",
    "    out = num**2\n",
    "    return(out)\n"
   ]
  },
  {
   "cell_type": "code",
   "execution_count": 17,
   "metadata": {},
   "outputs": [
    {
     "name": "stdout",
     "output_type": "stream",
     "text": [
      "9\n"
     ]
    }
   ],
   "source": [
    "sq_3 = square(3)\n",
    "print(sq_3)"
   ]
  },
  {
   "cell_type": "code",
   "execution_count": 21,
   "metadata": {
    "collapsed": true
   },
   "outputs": [],
   "source": [
    "def square(num):\n",
    "    out = num**2\n",
    "    print(out)\n"
   ]
  },
  {
   "cell_type": "code",
   "execution_count": 22,
   "metadata": {},
   "outputs": [
    {
     "name": "stdout",
     "output_type": "stream",
     "text": [
      "16\n",
      "Q isNone\n"
     ]
    }
   ],
   "source": [
    "q = square(4)\n",
    "print(\"Q is\"+str(q))\n"
   ]
  },
  {
   "cell_type": "code",
   "execution_count": 23,
   "metadata": {},
   "outputs": [
    {
     "name": "stdout",
     "output_type": "stream",
     "text": [
      "120\n"
     ]
    }
   ],
   "source": [
    "def factorial(n):\n",
    "    if n>1:\n",
    "        return n*factorial(n-1)\n",
    "    else:\n",
    "        return n\n",
    "\n",
    "fact = factorial(5)\n",
    "print(fact)\n"
   ]
  },
  {
   "cell_type": "code",
   "execution_count": 24,
   "metadata": {
    "collapsed": true
   },
   "outputs": [],
   "source": [
    "def addition(*args):\n",
    "    print(args)\n",
    "    return(sum(args))\n"
   ]
  },
  {
   "cell_type": "code",
   "execution_count": 25,
   "metadata": {},
   "outputs": [
    {
     "name": "stdout",
     "output_type": "stream",
     "text": [
      "(4, 5, 6, 7, 8, 9)\n",
      "39\n",
      "(1, 2)\n",
      "3\n"
     ]
    }
   ],
   "source": [
    "print(addition(4,5,6,7,8,9))\n",
    "print(addition(1,2))"
   ]
  },
  {
   "cell_type": "code",
   "execution_count": 26,
   "metadata": {},
   "outputs": [
    {
     "name": "stdout",
     "output_type": "stream",
     "text": [
      "Mahendra Singh Dhoni\n"
     ]
    }
   ],
   "source": [
    "def proper(some_text):\n",
    "    some_text = some_text.strip()\n",
    "    some_text = \" \".join([word[0].upper() + word[1:] for word in some_text.split()])\n",
    "    return some_text\n",
    "\n",
    "captain = proper(\"mahendra singh dhoni\")\n",
    "print(captain)\n"
   ]
  },
  {
   "cell_type": "code",
   "execution_count": 27,
   "metadata": {},
   "outputs": [
    {
     "name": "stdout",
     "output_type": "stream",
     "text": [
      "['Mahendra', 'Singh', 'Dhoni']\n",
      "<class 'function'>\n"
     ]
    }
   ],
   "source": [
    "string_to_list = lambda x: x.split()\n",
    "print(string_to_list(captain))\n",
    "print(type(string_to_list))\n"
   ]
  },
  {
   "cell_type": "code",
   "execution_count": 28,
   "metadata": {},
   "outputs": [
    {
     "name": "stdout",
     "output_type": "stream",
     "text": [
      "12\n"
     ]
    }
   ],
   "source": [
    "product = lambda x, y : x*y\n",
    "print(product(3,4))\n"
   ]
  },
  {
   "cell_type": "code",
   "execution_count": 32,
   "metadata": {},
   "outputs": [
    {
     "name": "stdout",
     "output_type": "stream",
     "text": [
      "2\n",
      "4\n"
     ]
    }
   ],
   "source": [
    "greater=lambda x,y: x if x>y else y\n",
    "print(greater(1,2))\n",
    "print(greater(3,4))"
   ]
  },
  {
   "cell_type": "code",
   "execution_count": 35,
   "metadata": {},
   "outputs": [
    {
     "name": "stdout",
     "output_type": "stream",
     "text": [
      "[4, 16, 25]\n",
      "smlist:  [4, 16, 25]\n"
     ]
    }
   ],
   "source": [
    "# list\n",
    "flist=[2,4,5]\n",
    "\n",
    "#creating new list using lambda and list expression\n",
    "#lamda expression\n",
    "sql=lambda x: x**2\n",
    "#list expression\n",
    "slist=[sql(e) for e in flist]\n",
    "print(slist)\n",
    "\n",
    "#smlist is second list created via map function of lamda\n",
    "smlist=list(map(lambda x: x**2,flist))\n",
    "print(\"smlist: \", smlist)"
   ]
  },
  {
   "cell_type": "code",
   "execution_count": 39,
   "metadata": {},
   "outputs": [
    {
     "ename": "SyntaxError",
     "evalue": "invalid syntax (<ipython-input-39-ef9e6b1ce419>, line 6)",
     "output_type": "error",
     "traceback": [
      "\u001b[1;36m  File \u001b[1;32m\"<ipython-input-39-ef9e6b1ce419>\"\u001b[1;36m, line \u001b[1;32m6\u001b[0m\n\u001b[1;33m    mapList=list(map(lambda x:x if x%5==0,num_list))\u001b[0m\n\u001b[1;37m                                         ^\u001b[0m\n\u001b[1;31mSyntaxError\u001b[0m\u001b[1;31m:\u001b[0m invalid syntax\n"
     ]
    }
   ],
   "source": [
    "#find number divisible by 50 using filters\n",
    "num_list=[1, 2, 3, 4, 5, 6, 7, 8, 9, 10, 11, 12, 13, 14, 15, 16, 17, 18, 19, 20, 21, 22, 23, 24, 25, 26, 27, 28, 29, 30, 31, 32, 33, 34, 35, 36, 37, 38, 39, 40, 41, 42, 43, 44, 45, 46, 47, 48, 49, 50]\n",
    "filteredList=list(filter(lambda x:x%5==0,num_list))\n",
    "print(filteredList)\n",
    "## doing same with map\n",
    "mapList=list(map(lambda x:x if x%5==0,num_list))\n",
    "print(\"filtered with map: \",mapList)"
   ]
  },
  {
   "cell_type": "code",
   "execution_count": null,
   "metadata": {
    "collapsed": true
   },
   "outputs": [],
   "source": []
  }
 ],
 "metadata": {
  "anaconda-cloud": {},
  "kernelspec": {
   "display_name": "Python 3",
   "language": "python",
   "name": "python3"
  },
  "language_info": {
   "codemirror_mode": {
    "name": "ipython",
    "version": 3
   },
   "file_extension": ".py",
   "mimetype": "text/x-python",
   "name": "python",
   "nbconvert_exporter": "python",
   "pygments_lexer": "ipython3",
   "version": "3.6.2"
  }
 },
 "nbformat": 4,
 "nbformat_minor": 1
}
